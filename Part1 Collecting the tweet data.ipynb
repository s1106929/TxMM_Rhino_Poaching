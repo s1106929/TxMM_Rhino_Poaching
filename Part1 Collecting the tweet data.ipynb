{
 "cells": [
  {
   "cell_type": "markdown",
   "id": "e18ba480",
   "metadata": {},
   "source": [
    "# Part 1: Collecting the Twitter data\n"
   ]
  },
  {
   "cell_type": "code",
   "execution_count": 1,
   "id": "e1207d80",
   "metadata": {},
   "outputs": [],
   "source": [
    "\"\"\" Libraries \"\"\"\n",
    "import csv\n",
    "import pandas as pd\n",
    "from getpass import getpass\n",
    "from time import sleep\n",
    "import datetime\n",
    "from selenium.webdriver.common.keys import Keys\n",
    "from selenium.common.exceptions import NoSuchElementException\n",
    "# chrome browser\n",
    "from selenium.webdriver import Chrome\n",
    "from selenium.webdriver.common.by import By"
   ]
  },
  {
   "cell_type": "code",
   "execution_count": 2,
   "id": "f95a6361",
   "metadata": {},
   "outputs": [],
   "source": [
    "def get_tweet_data(card):\n",
    "    \"\"\"Extract data from tweet data\"\"\"\n",
    "    \n",
    "    username = card.find_element(by=By.XPATH, value='.//div[2]/div[2]/div[1]/div[1]//span').text\n",
    "    handle = card.find_element(by=By.XPATH,value='.//span[contains(text(), \"@\")]').text\n",
    "    comment = card.find_element(by=By.XPATH, value='.//div[2]/div[2]/div[2]/div[1]').text\n",
    "    responding = card.find_element(by=By.XPATH, value='.//div[2]/div[2]/div[2]/div[2]').text\n",
    "    text = comment+responding\n",
    "    reply = card.find_element(by=By.XPATH, value='.//div[@data-testid=\"reply\"]').text\n",
    "    retweet = card.find_element(by=By.XPATH, value='.//div[@data-testid=\"retweet\"]').text\n",
    "    like = card.find_element(by=By.XPATH, value='.//div[@data-testid=\"like\"]').text\n",
    "    try:\n",
    "        postdate = card.find_element(by=By.XPATH, value='.//time').get_attribute('datetime')\n",
    "    except NoSuchElementException:\n",
    "        return\n",
    "    tweet = (username,handle,postdate,comment,responding,text,reply,retweet,like)\n",
    "    return tweet"
   ]
  },
  {
   "cell_type": "code",
   "execution_count": 3,
   "id": "0819492e",
   "metadata": {},
   "outputs": [
    {
     "name": "stderr",
     "output_type": "stream",
     "text": [
      "C:\\Users\\Linds\\AppData\\Local\\Temp\\ipykernel_10292\\4099496780.py:2: DeprecationWarning: executable_path has been deprecated, please pass in a Service object\n",
      "  driver = Chrome(\"C:/Program Files/chromedriver.exe\")\n"
     ]
    }
   ],
   "source": [
    "#create instance of web-driver\n",
    "driver = Chrome(\"C:/Program Files/chromedriver.exe\")"
   ]
  },
  {
   "cell_type": "code",
   "execution_count": 4,
   "id": "20d57621",
   "metadata": {},
   "outputs": [],
   "source": [
    "#navigate to login screen\n",
    "driver.get('https://www.twitter.com/login')\n",
    "driver.maximize_window()"
   ]
  },
  {
   "cell_type": "code",
   "execution_count": 5,
   "id": "9239dccb",
   "metadata": {},
   "outputs": [],
   "source": [
    "username = driver.find_element(by=By.XPATH, value='//input[@name=\"text\"]')\n",
    "username.send_keys(\"username\") #due to privacy reasons, username is not shown\n",
    "username.send_keys(Keys.RETURN)"
   ]
  },
  {
   "cell_type": "code",
   "execution_count": 6,
   "id": "ec8012ec",
   "metadata": {},
   "outputs": [],
   "source": [
    "password = driver.find_element(by=By.XPATH, value='//input[@name=\"password\"]')\n",
    "password.send_keys(\"password\") #due to privacy reasons, password is not shown\n",
    "password.send_keys(Keys.RETURN)"
   ]
  },
  {
   "cell_type": "code",
   "execution_count": 18,
   "id": "569527a9",
   "metadata": {},
   "outputs": [],
   "source": [
    "#find search input and search for term\n",
    "search_input = driver.find_element(by=By.XPATH, value='//input[@aria-label=\"Search query\"]')\n",
    "search_input.send_keys('#savetherhino until:2021-12-31 since:2019-01-01')\n",
    "search_input.send_keys(Keys.RETURN)"
   ]
  },
  {
   "cell_type": "markdown",
   "id": "0f7a0a5e",
   "metadata": {},
   "source": [
    "#### Hashtags\n",
    "1. wildlifecrime Rhino\n",
    "2. Rhino Poaching\n",
    "3. Rhinoceros Poaching\n",
    "4. Rhinopoaching\n",
    "5. Antipoaching Rhino\n",
    "6. Rhinohorn\n",
    "7. Savetherhino"
   ]
  },
  {
   "cell_type": "markdown",
   "id": "2e130bba",
   "metadata": {},
   "source": [
    "This process is done for all the different hashtags. The datasets are combined into one file. "
   ]
  },
  {
   "cell_type": "code",
   "execution_count": 19,
   "id": "ad059851",
   "metadata": {},
   "outputs": [],
   "source": [
    "#navigate to historical 'latest' tab\n",
    "driver.find_element(\"link text\", \"Latest\").click()"
   ]
  },
  {
   "cell_type": "code",
   "execution_count": 20,
   "id": "b240eb22",
   "metadata": {
    "scrolled": true
   },
   "outputs": [],
   "source": [
    "#get all tweets on the page\n",
    "data = []\n",
    "tweet_ids = set()\n",
    "last_position = driver.execute_script(\"return window.pageYOffset;\")\n",
    "scrolling = True\n",
    "\n",
    "while scrolling:\n",
    "    page_cards = driver.find_elements(by=By.XPATH, value='//article[@data-testid=\"tweet\"]')\n",
    "    for card in page_cards:\n",
    "        try: \n",
    "            tweet = get_tweet_data(card)\n",
    "        except Exception as e:\n",
    "            print(\"This tweet data is not found\")\n",
    "            continue\n",
    "        if tweet:\n",
    "            tweet_id = ''.join(tweet)\n",
    "            if tweet_id not in tweet_ids:\n",
    "                tweet_ids.add(tweet_id)\n",
    "                data.append(tweet)\n",
    "    \n",
    "    scroll_attempt = 0\n",
    "    while True:\n",
    "        #check scroll position   \n",
    "        driver.execute_script(\"window.scrollTo(0, document.body.scrollHeight);\")\n",
    "        sleep(1)\n",
    "        curr_position = driver.execute_script(\"return window.pageYOffset;\")\n",
    "        if last_position == curr_position:\n",
    "            scroll_attempt += 1\n",
    "            \n",
    "            #end scroll:\n",
    "            if scroll_attempt >= 3:\n",
    "                scrolling = False\n",
    "                break\n",
    "            else:\n",
    "                sleep(2) #attempt another scroll\n",
    "        else:\n",
    "            last_position = curr_position\n",
    "            break"
   ]
  },
  {
   "cell_type": "code",
   "execution_count": 22,
   "id": "836094d7",
   "metadata": {},
   "outputs": [],
   "source": [
    "#saving the data:\n",
    "with open('Tweets/rhino_tweets_#savetherhino.csv','w',newline='',encoding='utf-8') as f:\n",
    "    header = ['Username', 'Handle', 'Timestamp', 'Comments', 'Responding', 'Text', \n",
    "              'Reply', 'Retweet', 'Likes']\n",
    "    writer = csv.writer(f)\n",
    "    writer.writerow(header)\n",
    "    writer.writerows(data)"
   ]
  }
 ],
 "metadata": {
  "kernelspec": {
   "display_name": "Python 3 (ipykernel)",
   "language": "python",
   "name": "python3"
  },
  "language_info": {
   "codemirror_mode": {
    "name": "ipython",
    "version": 3
   },
   "file_extension": ".py",
   "mimetype": "text/x-python",
   "name": "python",
   "nbconvert_exporter": "python",
   "pygments_lexer": "ipython3",
   "version": "3.9.12"
  }
 },
 "nbformat": 4,
 "nbformat_minor": 5
}
